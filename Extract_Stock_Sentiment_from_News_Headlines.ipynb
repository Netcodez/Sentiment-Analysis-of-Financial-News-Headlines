{
  "cells": [
    {
      "metadata": {
        "dc": {
          "key": "3"
        },
        "deletable": false,
        "editable": false,
        "run_control": {
          "frozen": true
        },
        "tags": [
          "context"
        ],
        "id": "xrpN1cEbkUrE"
      },
      "cell_type": "markdown",
      "source": [
        "## 1. Searching for gold inside HTML files\n",
        "<p>It used to take days for financial news to spread via radio, newspapers, and word of mouth. News articles can be <em>automatically</em> generated from figures and earnings call streams. Hedge funds and independent traders are use data science to process this wealth of information in the quest for profit.</p>\n",
        "<p>In this notebook, sentiment analysis will be used to extract insight from financial news headlines from <a href=\"https://finviz.com\">FINVIZ.com</a>. This will  help in better understanding the emotion behind the headlines and predict whether the market <em>feels</em> good or bad about a stock. It would then be possible to make educated guesses on how certain stocks will perform and trade accordingly. (And hopefully, make money!)</p>\n",
        "<p><img src=\"https://assets.datacamp.com/production/project_611/img/fb_headlines.png\" alt=\"Facebook headlines from FINVIZ.com\"></p>\n",
        "<p>Why headlines? And why from FINVIZ?</p>\n",
        "<ol>\n",
        "<li>Headlines, which have similar length, are easier to parse and group than full articles, which vary in length.</li>\n",
        "<li>FINVIZ has a list of trusted websites, and headlines from these sites tend to be more consistent in their jargon than those from independent bloggers. Consistent textual patterns will improve the sentiment analysis.</li>\n",
        "</ol>"
      ]
    },
    {
      "cell_type": "code",
      "source": [
        "from google.colab import drive\n",
        "drive.mount('/content/drive')"
      ],
      "metadata": {
        "colab": {
          "base_uri": "https://localhost:8080/"
        },
        "id": "xdmvkNHCkXdT",
        "outputId": "6d7c9182-5222-4111-e015-352f9d761c6e"
      },
      "execution_count": 369,
      "outputs": [
        {
          "output_type": "stream",
          "name": "stdout",
          "text": [
            "Drive already mounted at /content/drive; to attempt to forcibly remount, call drive.mount(\"/content/drive\", force_remount=True).\n"
          ]
        }
      ]
    },
    {
      "metadata": {
        "dc": {
          "key": "3"
        },
        "tags": [
          "sample_code"
        ],
        "scrolled": true,
        "collapsed": true,
        "trusted": true,
        "id": "1i3kVx_IkUrH"
      },
      "cell_type": "code",
      "source": [
        "# Import libraries\n",
        "import pandas as pd\n",
        "import nltk\n",
        "import matplotlib.pyplot as plt\n",
        "import os\n",
        "import glob\n",
        "import datetime\n",
        "\n",
        "from nltk.sentiment.vader import SentimentIntensityAnalyzer\n",
        "\n",
        "from bs4 import BeautifulSoup"
      ],
      "execution_count": 370,
      "outputs": []
    },
    {
      "cell_type": "code",
      "source": [
        "nltk.download('vader_lexicon')"
      ],
      "metadata": {
        "colab": {
          "base_uri": "https://localhost:8080/"
        },
        "id": "0HBX31UeEdLp",
        "outputId": "d698e9b3-ee5a-4755-8e77-31e344af39e5"
      },
      "execution_count": 371,
      "outputs": [
        {
          "output_type": "stream",
          "name": "stderr",
          "text": [
            "[nltk_data] Downloading package vader_lexicon to /root/nltk_data...\n",
            "[nltk_data]   Package vader_lexicon is already up-to-date!\n"
          ]
        },
        {
          "output_type": "execute_result",
          "data": {
            "text/plain": [
              "True"
            ]
          },
          "metadata": {},
          "execution_count": 371
        }
      ]
    },
    {
      "cell_type": "code",
      "source": [
        "html_tables = {}\n",
        "\n",
        "folder = '/content/drive/MyDrive/dataset_finviz/'\n",
        "\n",
        "# List all html files\n",
        "files = glob.glob(folder + '*.html')\n",
        "\n",
        "for table_path in files:\n",
        "  with open(table_path, 'r') as table_file:\n",
        "    table_name = os.path.basename(table_path)\n",
        "    # Read the contents of the file into 'html'\n",
        "    html = BeautifulSoup(table_file, 'html.parser')\n",
        "    # Find 'news-table' in the Soup and load it into 'html_table'\n",
        "    html_table = html.find(id='news-table')\n",
        "    # Add the table to our dictionary\n",
        "    html_tables[table_name] = html_table"
      ],
      "metadata": {
        "id": "8l9dUIEP1jVN"
      },
      "execution_count": 372,
      "outputs": []
    },
    {
      "metadata": {
        "dc": {
          "key": "10"
        },
        "deletable": false,
        "editable": false,
        "run_control": {
          "frozen": true
        },
        "tags": [
          "context"
        ],
        "id": "H2vdonz0kUrJ"
      },
      "cell_type": "markdown",
      "source": [
        "## 2. What is inside those files anyway?\n",
        "<p>The table containing the headlines has been grabbed from each stock's HTML file, but before parsing those tables further, there is need to understand how the data in that table is structured."
      ]
    },
    {
      "metadata": {
        "dc": {
          "key": "10"
        },
        "tags": [
          "sample_code"
        ],
        "trusted": true,
        "id": "VAclkm_HkUrK",
        "outputId": "b14562aa-0d5d-4e85-dcc8-ff4b9bf849f2",
        "colab": {
          "base_uri": "https://localhost:8080/"
        }
      },
      "cell_type": "code",
      "source": [
        "# Read one single day of headlines\n",
        "tsla = html_tables['tsla_22sep.html']\n",
        "\n",
        "# Get all the table rows tagged in HTML with <tr> into 'tesla_tr'\n",
        "tsla_tr = tsla.find_all('tr')\n",
        "\n",
        "# For each row...\n",
        "for i, table_row in enumerate(tsla_tr):\n",
        "    # Read the text of the element 'a' into 'link_text'\n",
        "    link_text = table_row.a.get_text()\n",
        "\n",
        "    # Read the text of the element 'td' into 'data_text'\n",
        "    data_text =  table_row.td.get_text()\n",
        "    # Print the count\n",
        "    print(f'File number {i+1}:')\n",
        "    # Print the contents of 'link_text' and 'data_text'\n",
        "    print(link_text)\n",
        "    print(data_text)\n",
        "    # limit the rows due to prevent spaming the notebook\n",
        "    if i == 3:\n",
        "        break"
      ],
      "execution_count": 373,
      "outputs": [
        {
          "output_type": "stream",
          "name": "stdout",
          "text": [
            "File number 1:\n",
            "Billionaire investor questions Elon Musk getting 'a pass' after bombshell tweets\n",
            "Sep-21-18 09:56PM  \n",
            "File number 2:\n",
            "Broadcoms Stock Looks Like a Winner\n",
            "09:30PM  \n",
            "File number 3:\n",
            "SHAREHOLDER ALERT:  Pomerantz Law Firm Reminds Shareholders with Losses on their Investment in Tesla, Inc. of Class Action Lawsuit and Upcoming Deadline  TSLA\n",
            "05:30PM  \n",
            "File number 4:\n",
            "Tesla's People Problem and the Inscrutable Musk: 2 Things That Make You Go Hmmm\n",
            "05:30PM  \n"
          ]
        }
      ]
    },
    {
      "metadata": {
        "dc": {
          "key": "17"
        },
        "deletable": false,
        "editable": false,
        "run_control": {
          "frozen": true
        },
        "tags": [
          "context"
        ],
        "id": "dpXEMv-EkUrL"
      },
      "cell_type": "markdown",
      "source": [
        "## 3. Extra, extra! Extract the news headlines\n",
        "<p>As seen above, the interesting data inside each table row (<code>&lt;tr&gt;</code>) is in the text inside the <code>&lt;td&gt;</code> and <code>&lt;a&gt;</code> tags.</p>"
      ]
    },
    {
      "metadata": {
        "dc": {
          "key": "17"
        },
        "tags": [
          "sample_code"
        ],
        "trusted": true,
        "id": "CS9Gj_3HkUrL"
      },
      "cell_type": "code",
      "source": [
        "# Hold the parsed news into a list\n",
        "parsed_news = []\n",
        "# Iterate through the news\n",
        "for file_name, news_table in html_tables.items():\n",
        "    # Iterate through all tr tags in 'news_table'\n",
        "    for x in news_table.findAll('tr'):\n",
        "        # Read the text from the tr tag into text\n",
        "        text = x.a.get_text()\n",
        "        # Split the text in the td tag into a list\n",
        "        date_scrape = x.td.text.split()\n",
        "        # If the length of 'date_scrape' is 1, load 'time' as the only element\n",
        "        # If not, load 'date' as the 1st element and 'time' as the second\n",
        "        if len(date_scrape) == 1:\n",
        "            time = date_scrape[0]\n",
        "        else:\n",
        "            date = date_scrape[0]\n",
        "            time = date_scrape[1]\n",
        "\n",
        "        # Extract the ticker from the file name, get the string up to the 1st '_'\n",
        "        underscore_index = file_name.find('_')\n",
        "        ticker = file_name[:underscore_index]\n",
        "        # Append ticker, date, time and headline as a list to the 'parsed_news' list\n",
        "        parsed_news.append([ticker, date, time, text])"
      ],
      "execution_count": 374,
      "outputs": []
    },
    {
      "metadata": {
        "dc": {
          "key": "24"
        },
        "deletable": false,
        "editable": false,
        "run_control": {
          "frozen": true
        },
        "tags": [
          "context"
        ],
        "id": "wAii-bkukUrM"
      },
      "cell_type": "markdown",
      "source": [
        "## 4. Make NLTK think like a financial journalist\n",
        "<p>Sentiment analysis demonstrates a keen ability to discern varied interpretations contingent upon the context. For instance, the phrase \"This is so addictive!\" may convey positivity in the context of enjoying a video game with friends, yet it frequently carries negative connotations when referring to substances like opioids. It's important to recognize that the choice of headlines as our dataset stems from the intention to gauge sentiment from financial journalists, who, like many professionals, utilize specialized language. Therefore, in an effort to enhance NLTK's comprehension of financial news, additional words and their corresponding sentiments are being incorporated into its lexicon.</p>"
      ]
    },
    {
      "metadata": {
        "dc": {
          "key": "24"
        },
        "tags": [
          "sample_code"
        ],
        "collapsed": true,
        "trusted": true,
        "id": "N4ULnXAJkUrM"
      },
      "cell_type": "code",
      "source": [
        "# New words and values\n",
        "new_words = {\n",
        "    'crushes': 10,\n",
        "    'beats': 5,\n",
        "    'misses': -5,\n",
        "    'trouble': -10,\n",
        "    'falls': -100,\n",
        "}\n",
        "# Instantiate the sentiment intensity analyzer with the existing lexicon\n",
        "vader = SentimentIntensityAnalyzer()"
      ],
      "execution_count": 375,
      "outputs": []
    },
    {
      "cell_type": "code",
      "source": [
        "# Update the lexicon\n",
        "vader.lexicon.update(new_words)"
      ],
      "metadata": {
        "id": "D9hivXkEXIvE"
      },
      "execution_count": 376,
      "outputs": []
    },
    {
      "metadata": {
        "dc": {
          "key": "31"
        },
        "deletable": false,
        "editable": false,
        "run_control": {
          "frozen": true
        },
        "tags": [
          "context"
        ],
        "id": "KR6M8zYHkUrN"
      },
      "cell_type": "markdown",
      "source": [
        "## 5. BREAKING NEWS: NLTK Crushes Sentiment Estimates\n",
        "<p>With the data and algorithm ready, the next step involves predicting sentiment from news headlines programmatically. Fortunately, VADER operates at a high level, requiring no further adjustments to the model apart from the earlier lexicon additions.\n",
        "\n",
        "However, it's important to note that using VADER \"out-of-the-box,\" even with some extra words included, may result in significant financial losses if applied directly to real money trading. To develop a sentiment analysis tool with potential profitability, a more extensive and specialized lexicon tailored to finance news would be necessary. Additionally, relying solely on a pre-packaged model like VADER might not yield optimal outcomes.</p>"
      ]
    },
    {
      "metadata": {
        "dc": {
          "key": "31"
        },
        "tags": [
          "sample_code"
        ],
        "scrolled": true,
        "collapsed": true,
        "trusted": true,
        "id": "ewfSOvrSkUrN"
      },
      "cell_type": "code",
      "source": [
        "# Use these column names\n",
        "columns = ['ticker', 'date', 'time', 'headline']\n",
        "\n",
        "# Convert the list of lists into a DataFrame\n",
        "scored_news = pd.DataFrame(parsed_news,columns=columns)\n",
        "\n",
        "# Iterate through the headlines and get the polarity scores\n",
        "scores = [vader.polarity_scores(x) for x in scored_news.headline]\n",
        "\n",
        "# Convert the list of dicts into a DataFrame\n",
        "scores_df = pd.DataFrame(scores)\n",
        "\n",
        "# Join the DataFrames\n",
        "scored_news = scored_news.join(scores_df)\n",
        "\n",
        "# Convert the date column from string to datetime\n",
        "scored_news['date'] = pd.to_datetime(scored_news.date, format='%b-%d-%y').dt.date"
      ],
      "execution_count": 377,
      "outputs": []
    },
    {
      "metadata": {
        "dc": {
          "key": "38"
        },
        "deletable": false,
        "editable": false,
        "run_control": {
          "frozen": true
        },
        "tags": [
          "context"
        ],
        "id": "Q2JG9DhakUrN"
      },
      "cell_type": "markdown",
      "source": [
        "## 6. Plot all the sentiment in subplots\n",
        "<p>Time series plot of the stocks.</p>"
      ]
    },
    {
      "metadata": {
        "dc": {
          "key": "38"
        },
        "tags": [
          "sample_code"
        ],
        "trusted": true,
        "id": "ibu9hZ97kUrO",
        "outputId": "f1021fe6-bfe8-4670-cf9f-d76d47d7806a",
        "colab": {
          "base_uri": "https://localhost:8080/",
          "height": 590
        }
      },
      "cell_type": "code",
      "source": [
        "plt.style.use(\"fivethirtyeight\")\n",
        "\n",
        "# Group by date and ticker columns from scored_news and calculate the mean\n",
        "mean_c = scored_news.drop(columns=['time','headline']).groupby(['date','ticker']).mean()\n",
        "\n",
        "mean_c = mean_c.unstack('ticker')\n",
        "\n",
        "# Get the cross-section of compound in the 'columns' axis\n",
        "mean_c = mean_c.xs(\"compound\", axis=\"columns\")\n",
        "\n",
        "# Plot a bar chart with pandas\n",
        "mean_c.plot.bar()"
      ],
      "execution_count": 378,
      "outputs": [
        {
          "output_type": "execute_result",
          "data": {
            "text/plain": [
              "<Axes: xlabel='date'>"
            ]
          },
          "metadata": {},
          "execution_count": 378
        },
        {
          "output_type": "display_data",
          "data": {
            "text/plain": [
              "<Figure size 640x480 with 1 Axes>"
            ],
            "image/png": "[encoded data removed]"
          },
          "metadata": {}
        }
      ]
    },
    {
      "metadata": {
        "dc": {
          "key": "45"
        },
        "deletable": false,
        "editable": false,
        "run_control": {
          "frozen": true
        },
        "tags": [
          "context"
        ],
        "id": "IJRBGPTFkUrO"
      },
      "cell_type": "markdown",
      "source": [
        "## 7. Weekends and duplicates\n",
        "<p>On November 22nd, Tesla experienced notable events. An examination of the headlines within the <code>DataFrame</code> reveals specific issues for that day: </p>\n",
        "<ul>\n",
        "<li>There are only 5 headlines for that day.</li>\n",
        "<li>Two headlines are verbatim the same as another but from another news outlet.</li>\n",
        "</ul>\n",
        "<p>To improve the dataset's quality, it is necessary to clean it up while retaining valuable information. Although some headlines might report the same news from different sources, the variation in wording can offer diverse perspectives on the same story. Additionally, when a piece of news is particularly significant, it often receives more coverage from multiple sources. The goal is to remove only the verbatim duplicate headlines, as they are likely from the same journalist and are merely being redistributed.</p>"
      ]
    },
    {
      "metadata": {
        "dc": {
          "key": "45"
        },
        "trusted": true,
        "id": "7kfymrx5kUrP",
        "outputId": "4fc459bd-82a1-4da7-a38c-d17aebf9b02a",
        "colab": {
          "base_uri": "https://localhost:8080/"
        }
      },
      "cell_type": "code",
      "source": [
        "scored_news['headline'].unique()\n",
        "\n",
        "selected_date = datetime.date(2018, 11, 22)\n",
        "result = scored_news.loc[(scored_news['date'] == selected_date) & (scored_news['ticker']== 'tsla')]\n",
        "\n",
        "print(result['headline'][:4])"
      ],
      "execution_count": 379,
      "outputs": [
        {
          "output_type": "stream",
          "name": "stdout",
          "text": [
            "126    Tesla Cuts China Car Prices: Can Others Surviv...\n",
            "127    [$$] Tesla cuts prices in China as trade war b...\n",
            "128    Tesla Lowers Car Prices in China After Trade W...\n",
            "129    Tesla cuts China car prices to absorb hit from...\n",
            "Name: headline, dtype: object\n"
          ]
        }
      ]
    },
    {
      "metadata": {
        "dc": {
          "key": "45"
        },
        "tags": [
          "sample_code"
        ],
        "trusted": true,
        "id": "4uQv9wO7kUrP",
        "outputId": "4dae5bab-85a5-463c-b2a0-4716ce2d077b",
        "colab": {
          "base_uri": "https://localhost:8080/",
          "height": 36
        }
      },
      "cell_type": "code",
      "source": [
        "# Count the number of headlines in scored_news (store as integer)\n",
        "num_news_before = scored_news.headline.count()\n",
        "\n",
        "# Drop duplicates based on ticker and headline\n",
        "scored_news_clean = scored_news.drop_duplicates(subset=['headline', 'ticker'])\n",
        "\n",
        "# Count number of headlines after dropping duplicates (store as integer)\n",
        "num_news_after = scored_news_clean.headline.count()\n",
        "\n",
        "# Print before and after numbers to get an idea of how we did\n",
        "f\"Before we had {num_news_before} headlines, now we have {num_news_after}\""
      ],
      "execution_count": 380,
      "outputs": [
        {
          "output_type": "execute_result",
          "data": {
            "text/plain": [
              "'Before we had 500 headlines, now we have 476'"
            ],
            "application/vnd.google.colaboratory.intrinsic+json": {
              "type": "string"
            }
          },
          "metadata": {},
          "execution_count": 380
        }
      ]
    },
    {
      "metadata": {
        "dc": {
          "key": "52"
        },
        "deletable": false,
        "editable": false,
        "run_control": {
          "frozen": true
        },
        "tags": [
          "context"
        ],
        "id": "TFr6EnG6kUrQ"
      },
      "cell_type": "markdown",
      "source": [
        "## 8. Sentiment on one single trading day and stock\n",
        "<p>To understand the dataset better, the focus will be on one trading day and one stock. An informative plot will be made to show the headlines and their scores in detail..</p>"
      ]
    },
    {
      "metadata": {
        "dc": {
          "key": "52"
        },
        "tags": [
          "sample_code"
        ],
        "trusted": true,
        "collapsed": true,
        "id": "h4_I5zCHkUrQ",
        "colab": {
          "base_uri": "https://localhost:8080/"
        },
        "outputId": "619f13b8-ed6d-43ab-8519-686e27c25236"
      },
      "cell_type": "code",
      "source": [
        "# Set the index to ticker and date\n",
        "single_day = scored_news_clean.set_index(['ticker', 'date'])\n",
        "\n",
        "# Cross-section the fb row\n",
        "single_day = single_day.xs('fb')\n",
        "\n",
        "# Select the 3rd of January of 2019\n",
        "specific_date = datetime.date(2019, 1, 3)\n",
        "single_day = single_day.loc[specific_date]\n",
        "\n",
        "# Convert the datetime string to just the time\n",
        "single_day['time'] = pd.to_datetime(single_day['time']).dt.time\n",
        "\n",
        "# Set the index to time and sort by it\n",
        "single_day = single_day.set_index('time')\n",
        "\n",
        "# Sort it\n",
        "single_day = single_day.sort_index()\n",
        "\n",
        "print(single_day.head())"
      ],
      "execution_count": 381,
      "outputs": [
        {
          "output_type": "stream",
          "name": "stdout",
          "text": [
            "                                                   headline    neg    neu  \\\n",
            "time                                                                        \n",
            "06:00:00  Why Internet Censorship Doesnt Work and Never ...  0.000  1.000   \n",
            "08:04:00  3 Big Stock Charts for Thursday: Medtronic, Fa...  0.000  1.000   \n",
            "09:07:00  The Zacks Analyst Blog Highlights: Facebook, W...  0.000  0.846   \n",
            "09:12:00  Why The FAANGs Are Crucial To A 2019 Market Rally  0.000  1.000   \n",
            "09:34:00  Apple warning stoking fears of slowdown in Chi...  0.426  0.574   \n",
            "\n",
            "            pos  compound  \n",
            "time                       \n",
            "06:00:00  0.000    0.0000  \n",
            "08:04:00  0.000    0.0000  \n",
            "09:07:00  0.154    0.2500  \n",
            "09:12:00  0.000    0.0000  \n",
            "09:34:00  0.000   -0.6369  \n"
          ]
        },
        {
          "output_type": "stream",
          "name": "stderr",
          "text": [
            "<ipython-input-381-0e49df568780>:12: UserWarning: Could not infer format, so each element will be parsed individually, falling back to `dateutil`. To ensure parsing is consistent and as-expected, please specify a format.\n",
            "  single_day['time'] = pd.to_datetime(single_day['time']).dt.time\n"
          ]
        }
      ]
    },
    {
      "metadata": {
        "dc": {
          "key": "59"
        },
        "deletable": false,
        "editable": false,
        "run_control": {
          "frozen": true
        },
        "tags": [
          "context"
        ],
        "id": "4TNHEp8QkUrQ"
      },
      "cell_type": "markdown",
      "source": [
        "## 9. Visualize the single day\n",
        "<p>Plot to visualize the positive, negative, and neutral scores for a single trading day and a single stock.\n",
        "\n",
        "\n",
        "\n",
        "\n",
        "\n",
        "</p>"
      ]
    },
    {
      "metadata": {
        "dc": {
          "key": "59"
        },
        "tags": [
          "sample_code"
        ],
        "trusted": true,
        "id": "4AZk56FfkUrR",
        "outputId": "2e32dd4e-672c-4c5e-b086-3ba14e0a2ddd",
        "colab": {
          "base_uri": "https://localhost:8080/",
          "height": 673
        }
      },
      "cell_type": "code",
      "source": [
        "TITLE = \"Negative, neutral, and positive sentiment for FB on 2019-01-03\"\n",
        "COLORS = [\"red\",\"orange\", \"green\"]\n",
        "\n",
        "# Drop the columns that aren't useful for the plot\n",
        "plot_day = single_day.drop(columns=['compound','headline'])\n",
        "\n",
        "# Change the column names to 'negative', 'positive', and 'neutral'\n",
        "plot_day.columns = ['negative','neutral','positive']\n",
        "\n",
        "plot_day.plot.bar(stacked = True,\n",
        "                  figsize=(10, 6),\n",
        "                  title = TITLE,\n",
        "                  color = COLORS).legend(bbox_to_anchor=(1.2, 0.5))\n",
        "plt.ylabel('scores');\n"
      ],
      "execution_count": 382,
      "outputs": [
        {
          "output_type": "display_data",
          "data": {
            "text/plain": [
              "<Figure size 1000x600 with 1 Axes>"
            ],
            "image/png": "[encoded data removed]"
          },
          "metadata": {}
        }
      ]
    }
  ],
  "metadata": {
    "kernelspec": {
      "name": "python3",
      "display_name": "Python 3",
      "language": "python"
    },
    "language_info": {
      "name": "python",
      "version": "3.6.7",
      "mimetype": "text/x-python",
      "codemirror_mode": {
        "name": "ipython",
        "version": 3
      },
      "pygments_lexer": "ipython3",
      "nbconvert_exporter": "python",
      "file_extension": ".py"
    },
    "colab": {
      "provenance": []
    }
  },
  "nbformat": 4,
  "nbformat_minor": 0
}